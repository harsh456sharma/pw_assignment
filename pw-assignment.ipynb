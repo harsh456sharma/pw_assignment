{
 "cells": [
  {
   "cell_type": "code",
   "execution_count": 1,
   "id": "84017bf4-7726-461c-96c6-a4abfc4a4b5d",
   "metadata": {},
   "outputs": [
    {
     "data": {
      "text/plain": [
       "'!dlroW ,olleH'"
      ]
     },
     "execution_count": 1,
     "metadata": {},
     "output_type": "execute_result"
    }
   ],
   "source": [
    "# Assignment \n",
    "\n",
    "# 1. Write a code to reverse a string.\n",
    "\n",
    "def reverse_string(s):\n",
    "    return s[::-1]\n",
    "\n",
    "\n",
    "input_string = \"Hello, World!\"\n",
    "reversed_string = reverse_string(input_string)\n",
    "reversed_string"
   ]
  },
  {
   "cell_type": "code",
   "execution_count": 2,
   "id": "94ec2b1a-d005-40bb-9887-2e4b13998a0e",
   "metadata": {},
   "outputs": [
    {
     "data": {
      "text/plain": [
       "3"
      ]
     },
     "execution_count": 2,
     "metadata": {},
     "output_type": "execute_result"
    }
   ],
   "source": [
    "# 2. write a code to count the number of vowels in a string.\n",
    "\n",
    "def count_vowels(s):\n",
    "    vowels = \"aeiouAEIOU\"\n",
    "    count = 0\n",
    "    for char in s:\n",
    "        if char in vowels:\n",
    "            count += 1\n",
    "    return count\n",
    "\n",
    "input_string = \"Hello, World!\"\n",
    "vowel_count = count_vowels(input_string)\n",
    "vowel_count\n"
   ]
  },
  {
   "cell_type": "code",
   "execution_count": 3,
   "id": "842eb85e-c9d0-4880-8e50-e9bf8bbbeebe",
   "metadata": {},
   "outputs": [
    {
     "data": {
      "text/plain": [
       "True"
      ]
     },
     "execution_count": 3,
     "metadata": {},
     "output_type": "execute_result"
    }
   ],
   "source": [
    "#  3. Write a code to check if a given string is a palindrome or not.\n",
    "\n",
    "def is_palindrome(s):\n",
    "    cleaned_string = ''.join(char.lower() for char in s if char.isalnum())\n",
    "    return cleaned_string == cleaned_string[::-1]\n",
    "\n",
    "input_string = \"A man, a plan, a canal: Panama\"\n",
    "result = is_palindrome(input_string)\n",
    "result"
   ]
  },
  {
   "cell_type": "code",
   "execution_count": 4,
   "id": "5c30631c-9a3e-407e-902c-67f6d97c2b2b",
   "metadata": {},
   "outputs": [
    {
     "name": "stdout",
     "output_type": "stream",
     "text": [
      "\"listen\" and \"silent\" are anagrams.\n"
     ]
    }
   ],
   "source": [
    "# 4. write a code to check if two given string are anagrams of each other.\n",
    "\n",
    "def are_anagrams(str1, str2):\n",
    "    str1 = str1.replace(\" \", \"\").lower()\n",
    "    str2 = str2.replace(\" \", \"\").lower()\n",
    "    \n",
    "    return sorted(str1) == sorted(str2)\n",
    "\n",
    "string1 = \"listen\"\n",
    "string2 = \"silent\"\n",
    "result = are_anagrams(string1, string2)\n",
    "if result:\n",
    "    print(f'\"{string1}\" and \"{string2}\" are anagrams.')\n",
    "else:\n",
    "    print(f'\"{string1}\" and \"{string2}\" are not anagrams.')\n"
   ]
  },
  {
   "cell_type": "code",
   "execution_count": 5,
   "id": "42954d02-db72-4134-83b9-4f8beb0fa502",
   "metadata": {},
   "outputs": [
    {
     "name": "stdout",
     "output_type": "stream",
     "text": [
      "Substring \"the\" found at positions: [0, 31, 45]\n"
     ]
    }
   ],
   "source": [
    "# 5. Write a code find all occurrences of a given substring within another string.\n",
    "\n",
    "def find_substring_occurrences(main_string, substring):\n",
    "    occurrences = []\n",
    "    start = 0\n",
    "    \n",
    "    while True:\n",
    "        start = main_string.find(substring, start)\n",
    "        \n",
    "        if start == -1:\n",
    "            break\n",
    "    \n",
    "        occurrences.append(start)\n",
    "        \n",
    "        start += 1\n",
    "    \n",
    "    return occurrences\n",
    "\n",
    "main_string = \"the quick brown fox jumps over the lazy dog. the quick fox.\"\n",
    "substring = \"the\"\n",
    "result = find_substring_occurrences(main_string, substring)\n",
    "\n",
    "if result:\n",
    "    print(f'Substring \"{substring}\" found at positions: {result}')\n",
    "else:\n",
    "    print(f'Substring \"{substring}\" not found in the main string.')"
   ]
  },
  {
   "cell_type": "code",
   "execution_count": 6,
   "id": "1ed91334-3726-47f4-8ed6-0a2f7a818ca0",
   "metadata": {},
   "outputs": [
    {
     "name": "stdout",
     "output_type": "stream",
     "text": [
      "Compressed string: a2b1c5a3\n"
     ]
    }
   ],
   "source": [
    "# 6. Write a code to perform basic string compression using the counts of repeated characters.\n",
    "\n",
    "def compress_string(input_string):\n",
    "    compressed = []\n",
    "    count = 1\n",
    "    \n",
    "    for i in range(1, len(input_string)):\n",
    "        if input_string[i] == input_string[i - 1]:\n",
    "            count += 1\n",
    "        else:\n",
    "            compressed.append(input_string[i - 1] + str(count))\n",
    "            count = 1\n",
    "    \n",
    "    compressed.append(input_string[-1] + str(count))\n",
    "    \n",
    "    compressed_string = ''.join(compressed)\n",
    "    \n",
    "    return compressed_string if len(compressed_string) < len(input_string) else input_string\n",
    "\n",
    "input_string = \"aabcccccaaa\"\n",
    "result = compress_string(input_string)\n",
    "print(f\"Compressed string: {result}\")\n"
   ]
  },
  {
   "cell_type": "code",
   "execution_count": 7,
   "id": "0e5d48d7-ad93-498d-b57d-2a78b3f2a139",
   "metadata": {},
   "outputs": [
    {
     "name": "stdout",
     "output_type": "stream",
     "text": [
      "Is \"a2b1c5a3\" a compressed string? True\n",
      "Is \"aabcccccaaa\" a compressed string? False\n"
     ]
    }
   ],
   "source": [
    "# 7. Write a code to determine if a string compression using the counts of repeated characters.\n",
    "\n",
    "import re\n",
    "\n",
    "def is_compressed_string(input_string):\n",
    "    pattern = r'([a-zA-Z])(\\d+)'\n",
    "    \n",
    "    matches = re.findall(pattern, input_string)\n",
    "    \n",
    "    reconstructed_string = ''.join(char + count for char, count in matches)\n",
    "    \n",
    "    return reconstructed_string == input_string\n",
    "\n",
    "input_string1 = \"a2b1c5a3\"\n",
    "input_string2 = \"aabcccccaaa\"\n",
    "\n",
    "result1 = is_compressed_string(input_string1)\n",
    "result2 = is_compressed_string(input_string2)\n",
    "\n",
    "print(f'Is \"{input_string1}\" a compressed string? {result1}')\n",
    "print(f'Is \"{input_string2}\" a compressed string? {result2}')\n"
   ]
  },
  {
   "cell_type": "code",
   "execution_count": 8,
   "id": "4f415860-fc21-403f-b687-5da1e6adb7e9",
   "metadata": {},
   "outputs": [
    {
     "name": "stdout",
     "output_type": "stream",
     "text": [
      "String with unique characters: abcdef\n"
     ]
    }
   ],
   "source": [
    "# 8. Write a code to convert a given string has all unique characters.\n",
    "\n",
    "def remove_duplicates(input_string):\n",
    "    seen = set()       \n",
    "    unique_string = [] \n",
    "    \n",
    "    for char in input_string:\n",
    "        if char not in seen:\n",
    "            seen.add(char)\n",
    "            unique_string.append(char)\n",
    "    \n",
    "    return ''.join(unique_string)\n",
    "\n",
    "input_string = \"aabbccddeeff\"\n",
    "result = remove_duplicates(input_string)\n",
    "print(f\"String with unique characters: {result}\")\n"
   ]
  },
  {
   "cell_type": "code",
   "execution_count": 9,
   "id": "08e472f6-4204-4588-aac9-6280803c67f2",
   "metadata": {},
   "outputs": [
    {
     "name": "stdout",
     "output_type": "stream",
     "text": [
      "Number of words in the string: 6\n"
     ]
    }
   ],
   "source": [
    "# 9.Write a code to count the number of words in string.\n",
    "\n",
    "def count_words(input_string):\n",
    "    words = input_string.split()\n",
    "    \n",
    "    return len(words)\n",
    "\n",
    "input_string = \"Hello, how are you doing today?\"\n",
    "word_count = count_words(input_string)\n",
    "print(f\"Number of words in the string: {word_count}\")\n"
   ]
  },
  {
   "cell_type": "code",
   "execution_count": 10,
   "id": "b5e7019f-6b17-46e2-9cbc-3b8a3da62d16",
   "metadata": {},
   "outputs": [
    {
     "name": "stdout",
     "output_type": "stream",
     "text": [
      "Concatenated string: HelloWorld\n"
     ]
    }
   ],
   "source": [
    "# 10. Write a code to count concatenate two string without using the + operator.\n",
    "\n",
    "def concatenate_strings(str1, str2):\n",
    "    return ''.join([str1, str2])\n",
    "\n",
    "string1 = \"Hello\"\n",
    "string2 = \"World\"\n",
    "result = concatenate_strings(string1, string2)\n",
    "print(f\"Concatenated string: {result}\")\n",
    "\n"
   ]
  },
  {
   "cell_type": "code",
   "execution_count": 11,
   "id": "fd9ee546-835b-49ed-8392-7d73ea799319",
   "metadata": {},
   "outputs": [
    {
     "name": "stdout",
     "output_type": "stream",
     "text": [
      "List after removing 2: [1, 3, 4, 5, 6]\n"
     ]
    }
   ],
   "source": [
    "# 11.Write a code to remove all occurrence of a specific element from a list.\n",
    "\n",
    "def remove_all_occurrences(lst, element):\n",
    "    return [item for item in lst if item != element]\n",
    "\n",
    "my_list = [1, 2, 3, 4, 2, 5, 2, 6]\n",
    "element_to_remove = 2\n",
    "result = remove_all_occurrences(my_list, element_to_remove)\n",
    "print(f\"List after removing {element_to_remove}: {result}\")\n"
   ]
  },
  {
   "cell_type": "code",
   "execution_count": 12,
   "id": "1cd1acc2-a74b-4838-b801-40429d560cb8",
   "metadata": {},
   "outputs": [
    {
     "name": "stdout",
     "output_type": "stream",
     "text": [
      "The second largest number is: 34\n"
     ]
    }
   ],
   "source": [
    "# 12. implement a code to find the second largest number in given list of integers.\n",
    "\n",
    "def find_second_largest(numbers):\n",
    "    if len(numbers) < 2:\n",
    "        return None \n",
    "    \n",
    "    largest = second_largest = float('-inf')\n",
    "    \n",
    "    for number in numbers:\n",
    "        if number > largest:\n",
    "            second_largest = largest\n",
    "            largest = number\n",
    "        elif number > second_largest and number != largest:\n",
    "            second_largest = number\n",
    "    \n",
    "    return second_largest if second_largest != float('-inf') else None\n",
    "\n",
    "numbers_list = [12, 35, 1, 10, 34, 1]\n",
    "second_largest = find_second_largest(numbers_list)\n",
    "if second_largest is not None:\n",
    "    print(f\"The second largest number is: {second_largest}\")\n",
    "else:\n",
    "    print(\"There is no second largest number.\")\n"
   ]
  },
  {
   "cell_type": "code",
   "execution_count": 13,
   "id": "fe6ca4c8-5d60-41ae-9f72-dcd2d69101e6",
   "metadata": {},
   "outputs": [
    {
     "name": "stdout",
     "output_type": "stream",
     "text": [
      "Occurrences: {1: 2, 2: 2, 3: 1, 4: 3, 5: 1}\n"
     ]
    }
   ],
   "source": [
    "# 13. create a code to count the occurrences of each element in a list and return a dictionary with elements are keys and their count as values.\n",
    "\n",
    "def count_occurrences(lst):\n",
    "    occurrence_dict = {}\n",
    "    \n",
    "    for item in lst:\n",
    "        if item in occurrence_dict:\n",
    "            occurrence_dict[item] += 1\n",
    "        else:\n",
    "            occurrence_dict[item] = 1\n",
    "    \n",
    "    return occurrence_dict\n",
    "\n",
    "my_list = [1, 2, 2, 3, 4, 4, 4, 5, 1]\n",
    "occurrences = count_occurrences(my_list)\n",
    "print(f\"Occurrences: {occurrences}\")\n"
   ]
  },
  {
   "cell_type": "code",
   "execution_count": 14,
   "id": "506bff4e-d408-4115-9210-13887f2c8efb",
   "metadata": {},
   "outputs": [
    {
     "name": "stdout",
     "output_type": "stream",
     "text": [
      "Reversed list: [5, 4, 3, 2, 1]\n"
     ]
    }
   ],
   "source": [
    "# 14. Write a code reverse a list in-place without using any buily-in reverse functions.\n",
    "\n",
    "def reverse_list(lst):\n",
    "    left = 0\n",
    "    right = len(lst) - 1\n",
    "    \n",
    "    while left < right:\n",
    "        lst[left], lst[right] = lst[right], lst[left]\n",
    "        left += 1\n",
    "        right -= 1\n",
    "\n",
    "my_list = [1, 2, 3, 4, 5]\n",
    "reverse_list(my_list)\n",
    "print(f\"Reversed list: {my_list}\")\n"
   ]
  },
  {
   "cell_type": "code",
   "execution_count": 15,
   "id": "bff11605-2f28-4f60-9313-5958a103469f",
   "metadata": {},
   "outputs": [
    {
     "name": "stdout",
     "output_type": "stream",
     "text": [
      "List after removing duplicates: [1, 2, 3, 4, 5, 6]\n"
     ]
    }
   ],
   "source": [
    "# 15. Implement a code to find and remove duplicates from a list while preserving the original order of elements.\n",
    "\n",
    "def remove_duplicates(lst):\n",
    "    seen = set()      \n",
    "    result = []      \n",
    "    \n",
    "    for item in lst:\n",
    "        if item not in seen:\n",
    "            seen.add(item)\n",
    "            result.append(item)\n",
    "    \n",
    "    return result\n",
    "\n",
    "my_list = [1, 2, 2, 3, 4, 4, 5, 1, 6]\n",
    "clean_list = remove_duplicates(my_list)\n",
    "print(f\"List after removing duplicates: {clean_list}\")\n",
    "\n"
   ]
  },
  {
   "cell_type": "code",
   "execution_count": 16,
   "id": "6fa68344-4b5e-4656-9ea3-5c5bb742c69f",
   "metadata": {},
   "outputs": [
    {
     "name": "stdout",
     "output_type": "stream",
     "text": [
      "List [1, 2, 2, 3, 4, 5] is sorted: True\n",
      "List [5, 4, 4, 3, 2, 1] is sorted: True\n",
      "List [1, 3, 2, 4, 5] is sorted: False\n"
     ]
    }
   ],
   "source": [
    "# 16. create a code to check if a given list is sorted (either in ascending or descending order) or not.\n",
    "\n",
    "def is_sorted(lst):\n",
    "    if not lst:\n",
    "        return True  # \n",
    "    \n",
    "    ascending = all(lst[i] <= lst[i + 1] for i in range(len(lst) - 1))\n",
    "    descending = all(lst[i] >= lst[i + 1] for i in range(len(lst) - 1))\n",
    "    \n",
    "    return ascending or descending\n",
    "\n",
    "list1 = [1, 2, 2, 3, 4, 5]   \n",
    "list2 = [5, 4, 4, 3, 2, 1] \n",
    "list3 = [1, 3, 2, 4, 5]      \n",
    "\n",
    "print(f\"List {list1} is sorted: {is_sorted(list1)}\")\n",
    "print(f\"List {list2} is sorted: {is_sorted(list2)}\")\n",
    "print(f\"List {list3} is sorted: {is_sorted(list3)}\")\n"
   ]
  },
  {
   "cell_type": "code",
   "execution_count": 17,
   "id": "6c130b3a-7e73-45ad-98c1-bc5da38323ce",
   "metadata": {},
   "outputs": [
    {
     "name": "stdout",
     "output_type": "stream",
     "text": [
      "Merged sorted list: [1, 2, 3, 4, 5, 6, 7, 8]\n"
     ]
    }
   ],
   "source": [
    "# 17. Write a code to merge two sorted list into a single sorted list.\n",
    "\n",
    "def merge_sorted_lists(list1, list2):\n",
    "    merged_list = []\n",
    "    i = j = 0  \n",
    "\n",
    "    while i < len(list1) and j < len(list2):\n",
    "        if list1[i] < list2[j]:\n",
    "            merged_list.append(list1[i])\n",
    "            i += 1\n",
    "        else:\n",
    "            merged_list.append(list2[j])\n",
    "            j += 1\n",
    "\n",
    "    while i < len(list1):\n",
    "        merged_list.append(list1[i])\n",
    "        i += 1\n",
    "\n",
    "    while j < len(list2):\n",
    "        merged_list.append(list2[j])\n",
    "        j += 1\n",
    "\n",
    "    return merged_list\n",
    "\n",
    "sorted_list1 = [1, 3, 5, 7]\n",
    "sorted_list2 = [2, 4, 6, 8]\n",
    "merged_list = merge_sorted_lists(sorted_list1, sorted_list2)\n",
    "print(f\"Merged sorted list: {merged_list}\")\n"
   ]
  },
  {
   "cell_type": "code",
   "execution_count": 18,
   "id": "25e20dca-7cf3-4edd-b28e-94d75d5ca13d",
   "metadata": {},
   "outputs": [
    {
     "name": "stdout",
     "output_type": "stream",
     "text": [
      "Intersection of the two lists: [4, 5]\n"
     ]
    }
   ],
   "source": [
    "# 18. Implement a code to find the intersection of two given lists.\n",
    "\n",
    "def find_intersection(list1, list2):\n",
    "    set1 = set(list1)\n",
    "    set2 = set(list2)\n",
    "    \n",
    "    intersection = set1 & set2\n",
    "    \n",
    "    return list(intersection)\n",
    "\n",
    "list1 = [1, 2, 3, 4, 5]\n",
    "list2 = [4, 5, 6, 7, 8]\n",
    "intersection = find_intersection(list1, list2)\n",
    "print(f\"Intersection of the two lists: {intersection}\")\n"
   ]
  },
  {
   "cell_type": "code",
   "execution_count": 19,
   "id": "68a716e0-94f0-4e4c-9baa-c14c120a1e56",
   "metadata": {},
   "outputs": [
    {
     "name": "stdout",
     "output_type": "stream",
     "text": [
      "Union of the two lists: [1, 2, 3, 4, 5, 6, 7, 8]\n"
     ]
    }
   ],
   "source": [
    "# 19. Create a code to find the union of two list without duplicates.\n",
    "\n",
    "def union_of_lists(list1, list2):\n",
    "    # Convert both lists to sets to remove duplicates and find the union\n",
    "    set1 = set(list1)\n",
    "    set2 = set(list2)\n",
    "    \n",
    "    # Find the union of the two sets\n",
    "    union_set = set1 | set2\n",
    "    \n",
    "    # Convert the resulting set back to a list\n",
    "    return list(union_set)\n",
    "\n",
    "# Example usage\n",
    "list1 = [1, 2, 3, 4, 5]\n",
    "list2 = [4, 5, 6, 7, 8]\n",
    "union_list = union_of_lists(list1, list2)\n",
    "print(f\"Union of the two lists: {union_list}\")\n"
   ]
  },
  {
   "cell_type": "code",
   "execution_count": 20,
   "id": "117add99-0e28-4fdf-9471-5c7e170de828",
   "metadata": {},
   "outputs": [
    {
     "name": "stdout",
     "output_type": "stream",
     "text": [
      "Shuffled list: [1, 2, 6, 4, 3, 5]\n"
     ]
    }
   ],
   "source": [
    "# 20. Write a code to shuffle a given list randomly without using any built-in-shuffle functions.\n",
    "\n",
    "import random\n",
    "\n",
    "def fisher_yates_shuffle(lst):\n",
    "    for i in range(len(lst) - 1, 0, -1):\n",
    "        j = random.randint(0, i)\n",
    "        lst[i], lst[j] = lst[j], lst[i]\n",
    "\n",
    "my_list = [1, 2, 3, 4, 5, 6]\n",
    "fisher_yates_shuffle(my_list)\n",
    "print(f\"Shuffled list: {my_list}\")\n",
    "\n"
   ]
  },
  {
   "cell_type": "code",
   "execution_count": 21,
   "id": "fc2c3efb-f567-4345-970d-d67ecf910408",
   "metadata": {},
   "outputs": [
    {
     "name": "stdout",
     "output_type": "stream",
     "text": [
      "Common elements tuple: (4, 5)\n"
     ]
    }
   ],
   "source": [
    "# 21. Write a code that takes two tuples as input and return a new tuple containing elements that are common to both input tuples.\n",
    "\n",
    "def common_elements(tuple1, tuple2):\n",
    "    set1 = set(tuple1)\n",
    "    set2 = set(tuple2)\n",
    "    \n",
    "    common_set = set1 & set2\n",
    "    \n",
    "    return tuple(common_set)\n",
    "\n",
    "tuple1 = (1, 2, 3, 4, 5)\n",
    "tuple2 = (4, 5, 6, 7, 8)\n",
    "common_tuple = common_elements(tuple1, tuple2)\n",
    "print(f\"Common elements tuple: {common_tuple}\")\n"
   ]
  },
  {
   "cell_type": "code",
   "execution_count": 22,
   "id": "2a880550-99f7-48a2-a2ea-2ed28673473f",
   "metadata": {},
   "outputs": [
    {
     "name": "stdin",
     "output_type": "stream",
     "text": [
      "Enter the first set of integers, separated by commas:  456\n",
      "Enter the second set of integers, separated by commas:  456\n"
     ]
    },
    {
     "name": "stdout",
     "output_type": "stream",
     "text": [
      "The intersection of the two sets is: {456}\n"
     ]
    }
   ],
   "source": [
    "# 22. Create a code that prompts the user to enter two sets of integers separated by commas. Then, print the intersection of these two sets.\n",
    "\n",
    "def get_set_from_input(prompt):\n",
    "    input_str = input(prompt)\n",
    "    input_set = set(map(int, input_str.split(',')))\n",
    "    return input_set\n",
    "\n",
    "def main():\n",
    "    set1 = get_set_from_input(\"Enter the first set of integers, separated by commas: \")\n",
    "    set2 = get_set_from_input(\"Enter the second set of integers, separated by commas: \")\n",
    "    \n",
    "    intersection = set1 & set2\n",
    "\n",
    "    print(f\"The intersection of the two sets is: {intersection}\")\n",
    "\n",
    "if __name__ == \"__main__\":\n",
    "    main()\n"
   ]
  },
  {
   "cell_type": "code",
   "execution_count": 23,
   "id": "11c32910-ebd8-478b-af60-dd31168ff3c7",
   "metadata": {},
   "outputs": [
    {
     "name": "stdout",
     "output_type": "stream",
     "text": [
      "Concatenated tuple: (1, 2, 3, 4, 5, 6)\n"
     ]
    }
   ],
   "source": [
    "# 23. Write a code to concatenate two tuples. The function should take two tuples as input and return a new tuple containing elements from both input tuples.\n",
    "\n",
    "def concatenate_tuples(tuple1, tuple2):\n",
    "    result_tuple = tuple1 + tuple2\n",
    "    return result_tuple\n",
    "\n",
    "tuple1 = (1, 2, 3)\n",
    "tuple2 = (4, 5, 6)\n",
    "concatenated_tuple = concatenate_tuples(tuple1, tuple2)\n",
    "print(f\"Concatenated tuple: {concatenated_tuple}\")\n"
   ]
  },
  {
   "cell_type": "code",
   "execution_count": 24,
   "id": "47e32adf-7900-4512-9cad-4bba34a2e463",
   "metadata": {},
   "outputs": [
    {
     "name": "stdin",
     "output_type": "stream",
     "text": [
      "Enter the first set of strings, separated by commas:  harsh\n",
      "Enter the second set of strings, separated by commas:  sharna\n"
     ]
    },
    {
     "name": "stdout",
     "output_type": "stream",
     "text": [
      "Elements in the first set but not in the second set: {'harsh'}\n"
     ]
    }
   ],
   "source": [
    "# 24. Develop a code that prompts the user to input two sets strings. Then, print the elements that are present in the first set but not in the second set.\n",
    "\n",
    "def get_set_from_input(prompt):\n",
    "    input_str = input(prompt)\n",
    "    input_set = set(input_str.split(','))\n",
    "    return input_set\n",
    "\n",
    "def main():\n",
    "    set1 = get_set_from_input(\"Enter the first set of strings, separated by commas: \")\n",
    "    set2 = get_set_from_input(\"Enter the second set of strings, separated by commas: \")\n",
    "    \n",
    "    difference = set1 - set2\n",
    "\n",
    "    print(f\"Elements in the first set but not in the second set: {difference}\")\n",
    "\n",
    "if __name__ == \"__main__\":\n",
    "    main()\n"
   ]
  },
  {
   "cell_type": "code",
   "execution_count": 25,
   "id": "00da2103-b151-4776-8e21-43f99f9e0668",
   "metadata": {},
   "outputs": [
    {
     "name": "stdout",
     "output_type": "stream",
     "text": [
      "Sliced tuple: (30, 40, 50)\n"
     ]
    }
   ],
   "source": [
    "#25. Create a code that takes a tuples and two integers as input. The function should return a new tuple containing elements from the origin tuple within the specified range of indices.\n",
    "\n",
    "def slice_tuple(tpl, start, end):\n",
    "    start = max(0, start)\n",
    "    end = min(len(tpl), end)\n",
    "    \n",
    "    return tpl[start:end]\n",
    "\n",
    "original_tuple = (10, 20, 30, 40, 50, 60)\n",
    "start_index = 2\n",
    "end_index = 5\n",
    "sliced_tuple = slice_tuple(original_tuple, start_index, end_index)\n",
    "print(f\"Sliced tuple: {sliced_tuple}\")\n"
   ]
  },
  {
   "cell_type": "code",
   "execution_count": 26,
   "id": "0fa0589e-a479-4eb3-91e4-68d1bcd3f1d7",
   "metadata": {},
   "outputs": [
    {
     "name": "stdin",
     "output_type": "stream",
     "text": [
      "Enter the first set of characters:  harsh'\n",
      "Enter the second set of characters:  sh\n"
     ]
    },
    {
     "name": "stdout",
     "output_type": "stream",
     "text": [
      "The union of the two sets is: {\"'\", 's', 'r', 'h', 'a'}\n"
     ]
    }
   ],
   "source": [
    "# 26. Write a code that prompts the user to input two sets of characters. Then ,print the union of these two sets.\n",
    "\n",
    "def get_set_from_input(prompt):\n",
    "    input_str = input(prompt)\n",
    "    input_set = set(input_str)\n",
    "    return input_set\n",
    "\n",
    "def main():\n",
    "    set1 = get_set_from_input(\"Enter the first set of characters: \")\n",
    "    set2 = get_set_from_input(\"Enter the second set of characters: \")\n",
    "    \n",
    "    union_set = set1 | set2\n",
    "    \n",
    "    print(f\"The union of the two sets is: {union_set}\")\n",
    "\n",
    "if __name__ == \"__main__\":\n",
    "    main()\n"
   ]
  },
  {
   "cell_type": "code",
   "execution_count": 27,
   "id": "fac9b6c4-bde8-4d04-9eb1-e89b41ea64f4",
   "metadata": {},
   "outputs": [
    {
     "name": "stdout",
     "output_type": "stream",
     "text": [
      "Union of the two sets: {1, 2, 3, 4, 5, 6, 7, 8}\n",
      "Intersection of the two sets: {4, 5}\n",
      "Difference of the two sets (set1 - set2): {1, 2, 3}\n"
     ]
    }
   ],
   "source": [
    "# 27. Develop a code that takes a tupe of interger as input.the function should return the maximum and minmum values from the tuple using tuple unpacking.\n",
    "\n",
    "def main():\n",
    "    set1 = {1, 2, 3, 4, 5}\n",
    "    set2 = {4, 5, 6, 7, 8}\n",
    "    \n",
    "    union_set = set1 | set2\n",
    "    \n",
    "    intersection_set = set1 & set2\n",
    "    \n",
    "    difference_set = set1 - set2\n",
    "    \n",
    "    print(f\"Union of the two sets: {union_set}\")\n",
    "    print(f\"Intersection of the two sets: {intersection_set}\")\n",
    "    print(f\"Difference of the two sets (set1 - set2): {difference_set}\")\n",
    "\n",
    "\n",
    "if __name__ == \"__main__\":\n",
    "    main()\n"
   ]
  },
  {
   "cell_type": "code",
   "execution_count": 28,
   "id": "09723361-2477-4929-829f-4f22ca33ee10",
   "metadata": {},
   "outputs": [
    {
     "name": "stdout",
     "output_type": "stream",
     "text": [
      "Union of the two sets: {70, 40, 10, 80, 50, 20, 60, 30}\n",
      "Intersection of the two sets: {40, 50}\n",
      "Difference of the two sets (set1 - set2): {10, 20, 30}\n"
     ]
    }
   ],
   "source": [
    "# 28. Create a code that defines two sets of integers. then, print the union, intersection, and differnce of these two sets.\n",
    "\n",
    "def main():\n",
    "    set1 = {10, 20, 30, 40, 50}\n",
    "    set2 = {40, 50, 60, 70, 80}\n",
    "    \n",
    "    union_set = set1.union(set2)\n",
    "    \n",
    "    intersection_set = set1.intersection(set2)\n",
    "    \n",
    "    difference_set = set1.difference(set2)\n",
    "    \n",
    "    print(f\"Union of the two sets: {union_set}\")\n",
    "    print(f\"Intersection of the two sets: {intersection_set}\")\n",
    "    print(f\"Difference of the two sets (set1 - set2): {difference_set}\")\n",
    "\n",
    "if __name__ == \"__main__\":\n",
    "    main()\n"
   ]
  },
  {
   "cell_type": "code",
   "execution_count": null,
   "id": "ea00ec7e-303b-47bc-87e7-67e3a88d148f",
   "metadata": {},
   "outputs": [],
   "source": []
  }
 ],
 "metadata": {
  "kernelspec": {
   "display_name": "Python 3 (ipykernel)",
   "language": "python",
   "name": "python3"
  },
  "language_info": {
   "codemirror_mode": {
    "name": "ipython",
    "version": 3
   },
   "file_extension": ".py",
   "mimetype": "text/x-python",
   "name": "python",
   "nbconvert_exporter": "python",
   "pygments_lexer": "ipython3",
   "version": "3.10.8"
  }
 },
 "nbformat": 4,
 "nbformat_minor": 5
}
